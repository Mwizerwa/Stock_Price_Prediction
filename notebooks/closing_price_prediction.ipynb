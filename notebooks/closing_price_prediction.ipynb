{
 "cells": [
  {
   "cell_type": "markdown",
   "id": "f9f0de55",
   "metadata": {},
   "source": [
    "## Predict Close Price for next day"
   ]
  },
  {
   "cell_type": "code",
   "execution_count": 1,
   "id": "46fdf031",
   "metadata": {},
   "outputs": [],
   "source": [
    "%%capture\n",
    "#Load model_creation_and_evaluation file\n",
    "%run model_creation_and_evaluation.ipynb"
   ]
  },
  {
   "cell_type": "code",
   "execution_count": 2,
   "id": "4207a2a2",
   "metadata": {},
   "outputs": [
    {
     "name": "stdout",
     "output_type": "stream",
     "text": [
      "Closing Price for the Next Day: [704.0241018]\n"
     ]
    }
   ],
   "source": [
    "#Create a new column Next Day Close with the Close price shifted by one day\n",
    "dataset[\"Next Day Close\"] = dataset[\"Close\"].shift(-1)\n",
    "\n",
    "#Drop the last row\n",
    "dataset.dropna(inplace=True)\n",
    "\n",
    "#Select features\n",
    "X = dataset[[\"Open\", \"High\", \"Low\", \"Close\", \"Adj Close\", \"Volume\"]]\n",
    "y = dataset[\"Next Day Close\"]\n",
    "\n",
    "#Split the data into training and testing\n",
    "X_train, X_test, y_train, y_test = train_test_split(X, y, test_size=0.3, random_state=42)\n",
    "\n",
    "#Random Forest Regressor model\n",
    "model = RandomForestRegressor(n_estimators=100, random_state=42)\n",
    "model.fit(X_train, y_train)\n",
    "\n",
    "#Predict the next day's Close price using the last row of the dataset\n",
    "next_day = model.predict(X.tail(1))\n",
    "\n",
    "print(\"Closing Price for the Next Day:\", next_day)"
   ]
  },
  {
   "cell_type": "code",
   "execution_count": null,
   "id": "8d55ff50",
   "metadata": {},
   "outputs": [],
   "source": []
  }
 ],
 "metadata": {
  "kernelspec": {
   "display_name": "Python 3",
   "language": "python",
   "name": "python3"
  },
  "language_info": {
   "codemirror_mode": {
    "name": "ipython",
    "version": 3
   },
   "file_extension": ".py",
   "mimetype": "text/x-python",
   "name": "python",
   "nbconvert_exporter": "python",
   "pygments_lexer": "ipython3",
   "version": "3.8.8"
  }
 },
 "nbformat": 4,
 "nbformat_minor": 5
}
