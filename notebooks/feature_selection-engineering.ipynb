{
 "cells": [
  {
   "cell_type": "markdown",
   "id": "8d545431",
   "metadata": {},
   "source": [
    "## Feature Selection/Engineering"
   ]
  },
  {
   "cell_type": "code",
   "execution_count": 1,
   "id": "771d4f6f",
   "metadata": {},
   "outputs": [],
   "source": [
    "%%capture\n",
    "#Load data_preparation_and_preprocessing file\n",
    "%run data_exploration.ipynb"
   ]
  },
  {
   "cell_type": "markdown",
   "id": "4d060983",
   "metadata": {},
   "source": [
    "##### Create new variables(Features)"
   ]
  },
  {
   "cell_type": "code",
   "execution_count": 2,
   "id": "8ac1d57b",
   "metadata": {},
   "outputs": [],
   "source": [
    "#Create Relative Strength Indicator (RSI)\n",
    "n = 14  #Number of days for RSI calculation\n",
    "#Calculate price changes\n",
    "dataset[\"Price Change\"] = dataset[\"Close\"].diff()\n",
    "\n",
    "#Separate gains and losses\n",
    "gains = dataset[\"Price Change\"].where(dataset[\"Price Change\"] > 0, 0)\n",
    "losses = -dataset[\"Price Change\"].where(dataset[\"Price Change\"] < 0, 0)\n",
    "\n",
    "#Calculate average gains and losses over n days\n",
    "average_gains = gains.rolling(window=n, min_periods=1).mean()\n",
    "average_losses = losses.rolling(window=n, min_periods=1).mean()\n",
    "\n",
    "#Calculate RS and RSI\n",
    "rs = average_gains / average_losses\n",
    "rsi = 100 - (100 / (1 + rs))\n",
    "\n",
    "#Add RSI to the dataset\n",
    "dataset[\"RSI\"] = rsi"
   ]
  },
  {
   "cell_type": "code",
   "execution_count": 3,
   "id": "5e92aa7c",
   "metadata": {},
   "outputs": [],
   "source": [
    "#Create Trading Volume Ratios\n",
    "n = 5  #Number of days for volume ratio\n",
    "\n",
    "#Calculate the 5 day average trading volume\n",
    "dataset[\"5 day Avg Volume\"] = dataset[\"Volume\"].rolling(window=n, min_periods=1).mean()\n",
    "\n",
    "# Calculate the 5-day trading volume ratio\n",
    "dataset[\"5 day Avg Volume\"] = dataset[\"Volume\"] / dataset[\"5 day Avg Volume\"]"
   ]
  },
  {
   "cell_type": "code",
   "execution_count": 4,
   "id": "ed1152bf",
   "metadata": {},
   "outputs": [
    {
     "data": {
      "text/plain": [
       "Index(['Date', 'Open', 'High', 'Low', 'Close', 'Adj Close', 'Volume', 'MA_50',\n",
       "       'MA_200', '50 day MA Volume', '200 day MA Volume', '20 day SMA',\n",
       "       '20 day StdDev', 'Upper Bollinger', 'Lower Bollinger', 'Price Change',\n",
       "       'RSI', '5 day Avg Volume'],\n",
       "      dtype='object')"
      ]
     },
     "execution_count": 4,
     "metadata": {},
     "output_type": "execute_result"
    }
   ],
   "source": [
    "dataset.columns"
   ]
  },
  {
   "cell_type": "code",
   "execution_count": 5,
   "id": "09244175",
   "metadata": {},
   "outputs": [],
   "source": [
    "#Get variables to use(New dataset)\n",
    "dataset = dataset[[\"Date\", \"Open\", \"High\", \"Low\", \"Close\", \"Adj Close\", \"Volume\", \"RSI\", \"5 day Avg Volume\"]]"
   ]
  },
  {
   "cell_type": "code",
   "execution_count": 6,
   "id": "3b72bdda",
   "metadata": {},
   "outputs": [],
   "source": [
    "# Set Date as the index\n",
    "dataset.set_index(\"Date\", inplace=True)\n",
    "#Extract date values\n",
    "dataset[\"Year\"] = dataset.index.year\n",
    "dataset[\"Month\"] = dataset.index.month\n",
    "dataset[\"Quarter\"] = dataset.index.quarter\n",
    "dataset[\"DayOfWeek\"] = dataset.index.dayofweek\n",
    "dataset[\"DayOfMonth\"] = dataset.index.day"
   ]
  },
  {
   "cell_type": "code",
   "execution_count": 7,
   "id": "d3ddd465",
   "metadata": {},
   "outputs": [],
   "source": [
    "dataset = dataset[[\"Year\", \"Month\", \"Quarter\", \"DayOfWeek\", \"DayOfMonth\", \"Open\", \"High\", \n",
    "         \"Low\", \"Close\", \"Adj Close\", \"Volume\", \"RSI\", \"5 day Avg Volume\"]]"
   ]
  },
  {
   "cell_type": "code",
   "execution_count": 8,
   "id": "2d1924e4",
   "metadata": {},
   "outputs": [
    {
     "data": {
      "text/html": [
       "<div>\n",
       "<style scoped>\n",
       "    .dataframe tbody tr th:only-of-type {\n",
       "        vertical-align: middle;\n",
       "    }\n",
       "\n",
       "    .dataframe tbody tr th {\n",
       "        vertical-align: top;\n",
       "    }\n",
       "\n",
       "    .dataframe thead th {\n",
       "        text-align: right;\n",
       "    }\n",
       "</style>\n",
       "<table border=\"1\" class=\"dataframe\">\n",
       "  <thead>\n",
       "    <tr style=\"text-align: right;\">\n",
       "      <th></th>\n",
       "      <th>Year</th>\n",
       "      <th>Month</th>\n",
       "      <th>Quarter</th>\n",
       "      <th>DayOfWeek</th>\n",
       "      <th>DayOfMonth</th>\n",
       "      <th>Open</th>\n",
       "      <th>High</th>\n",
       "      <th>Low</th>\n",
       "      <th>Close</th>\n",
       "      <th>Adj Close</th>\n",
       "      <th>Volume</th>\n",
       "      <th>RSI</th>\n",
       "      <th>5 day Avg Volume</th>\n",
       "    </tr>\n",
       "    <tr>\n",
       "      <th>Date</th>\n",
       "      <th></th>\n",
       "      <th></th>\n",
       "      <th></th>\n",
       "      <th></th>\n",
       "      <th></th>\n",
       "      <th></th>\n",
       "      <th></th>\n",
       "      <th></th>\n",
       "      <th></th>\n",
       "      <th></th>\n",
       "      <th></th>\n",
       "      <th></th>\n",
       "      <th></th>\n",
       "    </tr>\n",
       "  </thead>\n",
       "  <tbody>\n",
       "    <tr>\n",
       "      <th>2010-06-29</th>\n",
       "      <td>2010</td>\n",
       "      <td>6</td>\n",
       "      <td>2</td>\n",
       "      <td>1</td>\n",
       "      <td>29</td>\n",
       "      <td>19.000000</td>\n",
       "      <td>25.00</td>\n",
       "      <td>17.540001</td>\n",
       "      <td>23.889999</td>\n",
       "      <td>23.889999</td>\n",
       "      <td>18766300</td>\n",
       "      <td>NaN</td>\n",
       "      <td>1.000000</td>\n",
       "    </tr>\n",
       "    <tr>\n",
       "      <th>2010-06-30</th>\n",
       "      <td>2010</td>\n",
       "      <td>6</td>\n",
       "      <td>2</td>\n",
       "      <td>2</td>\n",
       "      <td>30</td>\n",
       "      <td>25.790001</td>\n",
       "      <td>30.42</td>\n",
       "      <td>23.299999</td>\n",
       "      <td>23.830000</td>\n",
       "      <td>23.830000</td>\n",
       "      <td>17187100</td>\n",
       "      <td>0.0</td>\n",
       "      <td>0.956076</td>\n",
       "    </tr>\n",
       "    <tr>\n",
       "      <th>2010-07-01</th>\n",
       "      <td>2010</td>\n",
       "      <td>7</td>\n",
       "      <td>3</td>\n",
       "      <td>3</td>\n",
       "      <td>1</td>\n",
       "      <td>25.000000</td>\n",
       "      <td>25.92</td>\n",
       "      <td>20.270000</td>\n",
       "      <td>21.959999</td>\n",
       "      <td>21.959999</td>\n",
       "      <td>8218800</td>\n",
       "      <td>0.0</td>\n",
       "      <td>0.558188</td>\n",
       "    </tr>\n",
       "    <tr>\n",
       "      <th>2010-07-02</th>\n",
       "      <td>2010</td>\n",
       "      <td>7</td>\n",
       "      <td>3</td>\n",
       "      <td>4</td>\n",
       "      <td>2</td>\n",
       "      <td>23.000000</td>\n",
       "      <td>23.10</td>\n",
       "      <td>18.709999</td>\n",
       "      <td>19.200001</td>\n",
       "      <td>19.200001</td>\n",
       "      <td>5139800</td>\n",
       "      <td>0.0</td>\n",
       "      <td>0.416921</td>\n",
       "    </tr>\n",
       "    <tr>\n",
       "      <th>2010-07-06</th>\n",
       "      <td>2010</td>\n",
       "      <td>7</td>\n",
       "      <td>3</td>\n",
       "      <td>1</td>\n",
       "      <td>6</td>\n",
       "      <td>20.000000</td>\n",
       "      <td>20.00</td>\n",
       "      <td>15.830000</td>\n",
       "      <td>16.110001</td>\n",
       "      <td>16.110001</td>\n",
       "      <td>6866900</td>\n",
       "      <td>0.0</td>\n",
       "      <td>0.611164</td>\n",
       "    </tr>\n",
       "  </tbody>\n",
       "</table>\n",
       "</div>"
      ],
      "text/plain": [
       "            Year  Month  Quarter  DayOfWeek  DayOfMonth       Open   High  \\\n",
       "Date                                                                        \n",
       "2010-06-29  2010      6        2          1          29  19.000000  25.00   \n",
       "2010-06-30  2010      6        2          2          30  25.790001  30.42   \n",
       "2010-07-01  2010      7        3          3           1  25.000000  25.92   \n",
       "2010-07-02  2010      7        3          4           2  23.000000  23.10   \n",
       "2010-07-06  2010      7        3          1           6  20.000000  20.00   \n",
       "\n",
       "                  Low      Close  Adj Close    Volume  RSI  5 day Avg Volume  \n",
       "Date                                                                          \n",
       "2010-06-29  17.540001  23.889999  23.889999  18766300  NaN          1.000000  \n",
       "2010-06-30  23.299999  23.830000  23.830000  17187100  0.0          0.956076  \n",
       "2010-07-01  20.270000  21.959999  21.959999   8218800  0.0          0.558188  \n",
       "2010-07-02  18.709999  19.200001  19.200001   5139800  0.0          0.416921  \n",
       "2010-07-06  15.830000  16.110001  16.110001   6866900  0.0          0.611164  "
      ]
     },
     "execution_count": 8,
     "metadata": {},
     "output_type": "execute_result"
    }
   ],
   "source": [
    "dataset.head()"
   ]
  },
  {
   "cell_type": "code",
   "execution_count": 9,
   "id": "7f8352b9",
   "metadata": {},
   "outputs": [],
   "source": [
    "#Fill NaN with 0\n",
    "dataset = dataset.fillna(0)"
   ]
  },
  {
   "cell_type": "markdown",
   "id": "7c6194ea",
   "metadata": {},
   "source": [
    "##### Feature Selection"
   ]
  },
  {
   "cell_type": "code",
   "execution_count": 10,
   "id": "7dd2ff6c",
   "metadata": {},
   "outputs": [],
   "source": [
    "#!pip install stepwise_regression"
   ]
  },
  {
   "cell_type": "code",
   "execution_count": 11,
   "id": "a20a9499",
   "metadata": {},
   "outputs": [],
   "source": [
    "X = dataset[[\"Year\", \"Month\", \"Quarter\", \"DayOfWeek\", \"DayOfMonth\", \"Open\", \"High\", \n",
    "         \"Low\", \"Adj Close\", \"Volume\", \"RSI\", \"5 day Avg Volume\"]]\n",
    "y = dataset[\"Close\"]"
   ]
  },
  {
   "cell_type": "code",
   "execution_count": 12,
   "id": "b375bd3f",
   "metadata": {},
   "outputs": [
    {
     "name": "stdout",
     "output_type": "stream",
     "text": [
      "Add  Open                           with p-value 0.0\n",
      "Add  Low                            with p-value 0.0\n",
      "Add  High                           with p-value 0.0\n",
      "Add  Adj Close                      with p-value 0.0\n",
      "Add  Volume                         with p-value 4.57868e-95\n"
     ]
    }
   ],
   "source": [
    "#Select features using stepwise selection(Forward regression)\n",
    "selected = step_reg.forward_regression(X, y, 0.05, verbose=True)"
   ]
  },
  {
   "cell_type": "code",
   "execution_count": 13,
   "id": "af299acb",
   "metadata": {},
   "outputs": [
    {
     "data": {
      "text/plain": [
       "['Open', 'Low', 'High', 'Adj Close', 'Volume']"
      ]
     },
     "execution_count": 13,
     "metadata": {},
     "output_type": "execute_result"
    }
   ],
   "source": [
    "selected"
   ]
  },
  {
   "cell_type": "code",
   "execution_count": null,
   "id": "98fd380c",
   "metadata": {},
   "outputs": [],
   "source": []
  }
 ],
 "metadata": {
  "kernelspec": {
   "display_name": "Python 3",
   "language": "python",
   "name": "python3"
  },
  "language_info": {
   "codemirror_mode": {
    "name": "ipython",
    "version": 3
   },
   "file_extension": ".py",
   "mimetype": "text/x-python",
   "name": "python",
   "nbconvert_exporter": "python",
   "pygments_lexer": "ipython3",
   "version": "3.8.8"
  }
 },
 "nbformat": 4,
 "nbformat_minor": 5
}
