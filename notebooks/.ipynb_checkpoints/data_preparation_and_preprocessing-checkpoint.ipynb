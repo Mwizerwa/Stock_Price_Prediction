{
 "cells": [
  {
   "cell_type": "markdown",
   "id": "d8ca12fc",
   "metadata": {},
   "source": [
    "# Stock Price Prediction: Tesla Case Study"
   ]
  },
  {
   "cell_type": "markdown",
   "id": "1b0e39bd",
   "metadata": {},
   "source": [
    "\"Stock Price Prediction: Tesla Case Study\" is a project designed for both learning and offering valuable insights to individuals interested in understanding and forecasting stock market trends. Using historical stock data and various analytical techniques, this project aims to educate users on the intricacies of predicting Tesla's stock prices. By sharing insights and predictive models, it empowers investors and enthusiasts to make more informed decisions when dealing with Tesla's stock."
   ]
  },
  {
   "cell_type": "code",
   "execution_count": 1,
   "id": "3d4d314a",
   "metadata": {},
   "outputs": [],
   "source": [
    "#Import libraries\n",
    "import pandas as pd\n",
    "import numpy as np\n",
    "import matplotlib.pyplot as plt\n",
    "import seaborn as sns\n",
    "\n",
    "from sklearn.linear_model import LinearRegression\n",
    "from sklearn.ensemble import RandomForestRegressor\n",
    "from xgboost import XGBRegressor\n",
    "from sklearn.model_selection import train_test_split\n",
    "from sklearn.metrics import mean_squared_error, r2_score, mean_absolute_error\n",
    "from sklearn.model_selection import KFold\n",
    "from sklearn.model_selection import cross_val_score, cross_validate\n",
    "from sklearn.preprocessing import LabelEncoder\n",
    "\n",
    "import seaborn as sns\n",
    "sns.set()\n",
    "\n",
    "import warnings\n",
    "warnings.filterwarnings(\"ignore\")"
   ]
  },
  {
   "cell_type": "markdown",
   "id": "7c28c310",
   "metadata": {},
   "source": [
    "## Data Preparation and Preprocessing "
   ]
  },
  {
   "cell_type": "code",
   "execution_count": null,
   "id": "3551d0d3",
   "metadata": {},
   "outputs": [],
   "source": [
    "#The path to the csv file\n",
    "file_path = \"../data/Housing.csv\"\n",
    "#Load the dataset\n",
    "dataset = pd.read_csv(file_path)\n",
    "#Get first 5 elements\n",
    "dataset.head()"
   ]
  },
  {
   "cell_type": "code",
   "execution_count": null,
   "id": "da2941fc",
   "metadata": {},
   "outputs": [],
   "source": [
    "#Check for missing values\n",
    "dataset.isna().sum()"
   ]
  },
  {
   "cell_type": "code",
   "execution_count": null,
   "id": "8f88cd5e",
   "metadata": {},
   "outputs": [],
   "source": [
    "#Get dataset shape\n",
    "dataset.shape"
   ]
  },
  {
   "cell_type": "code",
   "execution_count": null,
   "id": "e323d054",
   "metadata": {},
   "outputs": [],
   "source": [
    "#Get dataset information\n",
    "dataset.info()"
   ]
  },
  {
   "cell_type": "code",
   "execution_count": null,
   "id": "8888508e",
   "metadata": {},
   "outputs": [],
   "source": []
  },
  {
   "cell_type": "code",
   "execution_count": null,
   "id": "66f5cafc",
   "metadata": {},
   "outputs": [],
   "source": []
  },
  {
   "cell_type": "code",
   "execution_count": null,
   "id": "256d83b8",
   "metadata": {},
   "outputs": [],
   "source": []
  },
  {
   "cell_type": "code",
   "execution_count": null,
   "id": "3a1c1a16",
   "metadata": {},
   "outputs": [],
   "source": []
  },
  {
   "cell_type": "code",
   "execution_count": null,
   "id": "c2e4b438",
   "metadata": {},
   "outputs": [],
   "source": []
  },
  {
   "cell_type": "code",
   "execution_count": null,
   "id": "95247265",
   "metadata": {},
   "outputs": [],
   "source": []
  },
  {
   "cell_type": "code",
   "execution_count": null,
   "id": "bf099c60",
   "metadata": {},
   "outputs": [],
   "source": []
  },
  {
   "cell_type": "code",
   "execution_count": null,
   "id": "06939020",
   "metadata": {},
   "outputs": [],
   "source": []
  }
 ],
 "metadata": {
  "kernelspec": {
   "display_name": "Python 3",
   "language": "python",
   "name": "python3"
  },
  "language_info": {
   "codemirror_mode": {
    "name": "ipython",
    "version": 3
   },
   "file_extension": ".py",
   "mimetype": "text/x-python",
   "name": "python",
   "nbconvert_exporter": "python",
   "pygments_lexer": "ipython3",
   "version": "3.8.8"
  }
 },
 "nbformat": 4,
 "nbformat_minor": 5
}
